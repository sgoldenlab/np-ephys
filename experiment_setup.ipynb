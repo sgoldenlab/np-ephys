{
 "cells": [
  {
   "cell_type": "code",
   "execution_count": 4,
   "id": "986df8f0",
   "metadata": {},
   "outputs": [],
   "source": [
    "%load_ext autoreload\n",
    "%autoreload 2"
   ]
  },
  {
   "cell_type": "code",
   "execution_count": null,
   "id": "873715e1",
   "metadata": {},
   "outputs": [],
   "source": [
    "import os\n",
    "from pprint import pprint\n",
    "from tools.settings import settings"
   ]
  },
  {
   "cell_type": "markdown",
   "id": "4a287111",
   "metadata": {},
   "source": [
    "## Example from mtscomp for compression and decompression\n",
    "```python\n",
    "import numpy as np\n",
    "from mtscomp.mtscomp import compress, decompress\n",
    "\n",
    "# Compress a .bin file into a pair .cbin (compressed binary file) and .ch (JSON file).\n",
    "compress('data.bin', 'data.cbin', 'data.ch', sample_rate=20000., n_channels=256, dtype=np.int16)\n",
    "# Decompress a pair (.cbin, .ch) and return an object that can be sliced like a NumPy array.\n",
    "arr = decompress('data.cbin', 'data.ch')\n",
    "X = arr[start:end, :]  # decompress the data on the fly directly from the file on disk\n",
    "arr.close()  # Close the file when done\n",
    "```"
   ]
  },
  {
   "cell_type": "markdown",
   "id": "f616abdc",
   "metadata": {},
   "source": [
    "## setup"
   ]
  },
  {
   "cell_type": "markdown",
   "id": "80698217",
   "metadata": {},
   "source": [
    "#### set paths"
   ]
  },
  {
   "cell_type": "code",
   "execution_count": 9,
   "id": "43adcc88",
   "metadata": {},
   "outputs": [
    {
     "name": "stdout",
     "output_type": "stream",
     "text": [
      "Looking for recordings in:\n",
      "\t/mnt/fasthd/4_Behavioral_Sensitization/temp_storage\n",
      "\n",
      "Compressed recordings will be saved to:\n",
      "\t/mnt/fasthd/4_Behavioral_Sensitization/compressed_recordings\n"
     ]
    }
   ],
   "source": [
    "paths = settings.paths\n",
    "experiment = settings.experiment\n",
    "\n",
    "raw_drive = paths.drive\n",
    "expt_folder = experiment.dir\n",
    "batch_folder = raw_drive / expt_folder / 'temp_storage'\n",
    "print(f'Looking for recordings in:\\n\\t{batch_folder}')\n",
    "\n",
    "target_folder = batch_folder.parent / 'compressed_recordings'\n",
    "target_folder.mkdir(exist_ok=True)\n",
    "print(f'\\nCompressed recordings will be saved to:\\n\\t{target_folder}')\n"
   ]
  },
  {
   "cell_type": "markdown",
   "id": "d4d2bcb7",
   "metadata": {},
   "source": [
    "set subject / recording pairs to process"
   ]
  },
  {
   "cell_type": "code",
   "execution_count": 10,
   "id": "c70d60b6",
   "metadata": {},
   "outputs": [
    {
     "name": "stdout",
     "output_type": "stream",
     "text": [
      "Processing the following recordings:\n",
      "{   'BS03_R1': {   'concatenate': False},\n",
      "    'BS03_R2': {   'concatenate': False},\n",
      "    'BS04_R1': {   'concatenate': False},\n",
      "    'BS04_R2': {   'concatenate': False},\n",
      "    'BS04_R3': {   'concatenate': False},\n",
      "    'BS05_R1': {   'concatenate': False}}\n"
     ]
    }
   ],
   "source": [
    "recording_pairs = experiment.recordings\n",
    "print(\"Processing the following recordings:\")\n",
    "pprint(recording_pairs, indent=4, width=10)"
   ]
  },
  {
   "cell_type": "markdown",
   "id": "d35d475e",
   "metadata": {},
   "source": [
    "> If just wanting to create new project folder structures, skip to  *\"Once compressions are done...\"* section.\n",
    "> "
   ]
  },
  {
   "cell_type": "markdown",
   "id": "235bdbce",
   "metadata": {},
   "source": [
    "## compress recordings\n",
    "\n",
    "**single recording**  \n",
    "To compress a single recording, assign `recording_name` to one of the entries in `run_config.toml` under `[experiment.recordings]` header, for example \"NP02_R1\".  \n",
    "Run the `compress_recordings` cell afterwards to compress the recording to `target_folder`.  \n",
    "\n",
    "**batch compress**  \n",
    "To batch compress, simply leave `recording_name` as `None`, then run the `compress_recordings` cell to compresse all recordings in `recording_pairs` to `target_folder`."
   ]
  },
  {
   "cell_type": "markdown",
   "id": "2cd25127",
   "metadata": {},
   "source": [
    "set parallel processing parameters"
   ]
  },
  {
   "cell_type": "code",
   "execution_count": null,
   "id": "b28185f9",
   "metadata": {},
   "outputs": [
    {
     "name": "stdout",
     "output_type": "stream",
     "text": [
      "\n",
      "Parallel Job parameters:\n",
      "{'chunk_duration': 5, 'n_threads': 10}\n"
     ]
    }
   ],
   "source": [
    "num_cores = os.cpu_count()\n",
    "job_kwargs=dict(\n",
    "    n_threads=round(num_cores*0.8),\n",
    "    chunk_duration=5,\n",
    ")\n",
    "print(\"\\nParallel Job parameters:\")\n",
    "pprint(job_kwargs, indent=4)"
   ]
  },
  {
   "cell_type": "code",
   "execution_count": null,
   "id": "eb51f952",
   "metadata": {},
   "outputs": [],
   "source": [
    "# change to other than None to compress specific raw recording (including multiple segments)\n",
    "# e.g. \"NP02_R1\", or keep as None to batch compress all recordings in recording_pairs\n",
    "recording_name = None"
   ]
  },
  {
   "cell_type": "code",
   "execution_count": null,
   "id": "e960d2e4",
   "metadata": {},
   "outputs": [],
   "source": [
    "from tools.compression import compress_recordings\n",
    "\n",
    "if recording_name is not None:\n",
    "    # compress single recording session\n",
    "    properties = recording_pairs[recording_name]\n",
    "    print(f'---processing single recording')\n",
    "    compress_recordings(\n",
    "        {recording_name: properties},\n",
    "        batch_folder,\n",
    "        target_folder,\n",
    "        job_kwargs=job_kwargs\n",
    "    )\n",
    "else:\n",
    "    # compress all recording sessions\n",
    "    print(f'---processing all recordings in recording_pairs...')\n",
    "    compress_recordings(\n",
    "        recording_pairs,\n",
    "        batch_folder,\n",
    "        target_folder,\n",
    "        job_kwargs=job_kwargs\n",
    "    )\n"
   ]
  },
  {
   "cell_type": "markdown",
   "id": "8cd872ad",
   "metadata": {},
   "source": [
    "## once compressions are done...\n",
    "If you haven't yet, set up experiment folder structure for each recording using the `set_up_folders` tool.  \n",
    "\n",
    "Currently there are two options:   \n",
    "* *Command-line tool*\n",
    "    * Useful to set up structure for one session, or to have some more control over output.\n",
    "    * If you installed with uv, should be able to use the following to see basic usage, see README for further instructions.  \n",
    "    \n",
    "        ```bash\n",
    "        uv run set_up_folders --help\n",
    "        ```\n",
    "* *Set up default structures (histology & recording templates)*\n",
    "    * For all recordings in `recording_pairs`, or single recording if `recording_name` is other than `None`.\n",
    "    * See further instructions below"
   ]
  },
  {
   "cell_type": "code",
   "execution_count": 14,
   "id": "217f52ed",
   "metadata": {},
   "outputs": [],
   "source": [
    "from pathlib import Path\n",
    "\n",
    "# Define the base path where the project folders for each subject will be located\n",
    "    # this should or will contain subject folders like 'NP02_R1', etc.\n",
    "# For our projects, for each experiment `data_dir` by default is \"1_Recordings\"\n",
    "project_base_path = raw_drive / expt_folder / paths.data_dir\n",
    "\n",
    "# set to True to see what folders would be created without actually creating them\n",
    "in_debug_mode = False\n"
   ]
  },
  {
   "cell_type": "code",
   "execution_count": 15,
   "id": "9294cb91",
   "metadata": {},
   "outputs": [
    {
     "name": "stdout",
     "output_type": "stream",
     "text": [
      "---setting up folders for all recordings in recording_pairs...\n",
      "Setting up folder structures under: /mnt/fasthd/4_Behavioral_Sensitization/1_Recordings\n",
      "--- Processing session: BS03_R1 ---\n",
      "Creating full folder structure for: /mnt/fasthd/4_Behavioral_Sensitization/1_Recordings/BS03/0_histology\n",
      "Folder structure created successfully under '/mnt/fasthd/4_Behavioral_Sensitization/1_Recordings/BS03'\n",
      "0_histology/\n",
      "├── 0_unregistered_downsampled/\n",
      "├── 1_registered_napari/\n",
      "├── 2_transformed_stacks/\n",
      "└── 3_lasagna_tracks/\n",
      "\n",
      "You can find the new folders in: /mnt/fasthd/4_Behavioral_Sensitization/1_Recordings/BS03/0_histology\n",
      "\n",
      "Creating folder structure for recording session: BS03_R1\n",
      "Folder structure created successfully for BS03_R1:\n",
      "BS03_R1/\n",
      "├── 0_raw_compressed/\n",
      "├── 1_histology_alignment/\n",
      "├── 2_processed/\n",
      "│   ├── kilosort4/\n",
      "│   ├── metrics/\n",
      "│   └── aligned_outputs/\n",
      "└── 3_datasets/\n",
      "    ├── sync_data/\n",
      "    ├── metadata/\n",
      "    └── plots/\n",
      "\n",
      "You can find the new session folder in: /mnt/fasthd/4_Behavioral_Sensitization/1_Recordings/BS03/BS03_R1\n",
      "--------------------------------\n",
      "\n",
      "--- Processing session: BS03_R2 ---\n",
      "Creating full folder structure for: /mnt/fasthd/4_Behavioral_Sensitization/1_Recordings/BS03/0_histology\n",
      "Folder structure created successfully under '/mnt/fasthd/4_Behavioral_Sensitization/1_Recordings/BS03'\n",
      "0_histology/\n",
      "├── 0_unregistered_downsampled/\n",
      "├── 1_registered_napari/\n",
      "├── 2_transformed_stacks/\n",
      "└── 3_lasagna_tracks/\n",
      "\n",
      "You can find the new folders in: /mnt/fasthd/4_Behavioral_Sensitization/1_Recordings/BS03/0_histology\n",
      "\n",
      "Creating folder structure for recording session: BS03_R2\n",
      "Folder structure created successfully for BS03_R2:\n",
      "BS03_R2/\n",
      "├── 0_raw_compressed/\n",
      "├── 1_histology_alignment/\n",
      "├── 2_processed/\n",
      "│   ├── kilosort4/\n",
      "│   ├── metrics/\n",
      "│   └── aligned_outputs/\n",
      "└── 3_datasets/\n",
      "    ├── sync_data/\n",
      "    ├── metadata/\n",
      "    └── plots/\n",
      "\n",
      "You can find the new session folder in: /mnt/fasthd/4_Behavioral_Sensitization/1_Recordings/BS03/BS03_R2\n",
      "--------------------------------\n",
      "\n",
      "--- Processing session: BS04_R1 ---\n",
      "Creating full folder structure for: /mnt/fasthd/4_Behavioral_Sensitization/1_Recordings/BS04/0_histology\n",
      "Folder structure created successfully under '/mnt/fasthd/4_Behavioral_Sensitization/1_Recordings/BS04'\n",
      "0_histology/\n",
      "├── 0_unregistered_downsampled/\n",
      "├── 1_registered_napari/\n",
      "├── 2_transformed_stacks/\n",
      "└── 3_lasagna_tracks/\n",
      "\n",
      "You can find the new folders in: /mnt/fasthd/4_Behavioral_Sensitization/1_Recordings/BS04/0_histology\n",
      "\n",
      "Creating folder structure for recording session: BS04_R1\n",
      "Folder structure created successfully for BS04_R1:\n",
      "BS04_R1/\n",
      "├── 0_raw_compressed/\n",
      "├── 1_histology_alignment/\n",
      "├── 2_processed/\n",
      "│   ├── kilosort4/\n",
      "│   ├── metrics/\n",
      "│   └── aligned_outputs/\n",
      "└── 3_datasets/\n",
      "    ├── sync_data/\n",
      "    ├── metadata/\n",
      "    └── plots/\n",
      "\n",
      "You can find the new session folder in: /mnt/fasthd/4_Behavioral_Sensitization/1_Recordings/BS04/BS04_R1\n",
      "--------------------------------\n",
      "\n",
      "--- Processing session: BS04_R2 ---\n",
      "Creating full folder structure for: /mnt/fasthd/4_Behavioral_Sensitization/1_Recordings/BS04/0_histology\n",
      "Folder structure created successfully under '/mnt/fasthd/4_Behavioral_Sensitization/1_Recordings/BS04'\n",
      "0_histology/\n",
      "├── 0_unregistered_downsampled/\n",
      "├── 1_registered_napari/\n",
      "├── 2_transformed_stacks/\n",
      "└── 3_lasagna_tracks/\n",
      "\n",
      "You can find the new folders in: /mnt/fasthd/4_Behavioral_Sensitization/1_Recordings/BS04/0_histology\n",
      "\n",
      "Creating folder structure for recording session: BS04_R2\n",
      "Folder structure created successfully for BS04_R2:\n",
      "BS04_R2/\n",
      "├── 0_raw_compressed/\n",
      "├── 1_histology_alignment/\n",
      "├── 2_processed/\n",
      "│   ├── kilosort4/\n",
      "│   ├── metrics/\n",
      "│   └── aligned_outputs/\n",
      "└── 3_datasets/\n",
      "    ├── sync_data/\n",
      "    ├── metadata/\n",
      "    └── plots/\n",
      "\n",
      "You can find the new session folder in: /mnt/fasthd/4_Behavioral_Sensitization/1_Recordings/BS04/BS04_R2\n",
      "--------------------------------\n",
      "\n",
      "--- Processing session: BS04_R3 ---\n",
      "Creating full folder structure for: /mnt/fasthd/4_Behavioral_Sensitization/1_Recordings/BS04/0_histology\n",
      "Folder structure created successfully under '/mnt/fasthd/4_Behavioral_Sensitization/1_Recordings/BS04'\n",
      "0_histology/\n",
      "├── 0_unregistered_downsampled/\n",
      "├── 1_registered_napari/\n",
      "├── 2_transformed_stacks/\n",
      "└── 3_lasagna_tracks/\n",
      "\n",
      "You can find the new folders in: /mnt/fasthd/4_Behavioral_Sensitization/1_Recordings/BS04/0_histology\n",
      "\n",
      "Creating folder structure for recording session: BS04_R3\n",
      "Folder structure created successfully for BS04_R3:\n",
      "BS04_R3/\n",
      "├── 0_raw_compressed/\n",
      "├── 1_histology_alignment/\n",
      "├── 2_processed/\n",
      "│   ├── kilosort4/\n",
      "│   ├── metrics/\n",
      "│   └── aligned_outputs/\n",
      "└── 3_datasets/\n",
      "    ├── sync_data/\n",
      "    ├── metadata/\n",
      "    └── plots/\n",
      "\n",
      "You can find the new session folder in: /mnt/fasthd/4_Behavioral_Sensitization/1_Recordings/BS04/BS04_R3\n",
      "--------------------------------\n",
      "\n",
      "--- Processing session: BS05_R1 ---\n",
      "Creating full folder structure for: /mnt/fasthd/4_Behavioral_Sensitization/1_Recordings/BS05/0_histology\n",
      "Folder structure created successfully under '/mnt/fasthd/4_Behavioral_Sensitization/1_Recordings/BS05'\n",
      "0_histology/\n",
      "├── 0_unregistered_downsampled/\n",
      "├── 1_registered_napari/\n",
      "├── 2_transformed_stacks/\n",
      "└── 3_lasagna_tracks/\n",
      "\n",
      "You can find the new folders in: /mnt/fasthd/4_Behavioral_Sensitization/1_Recordings/BS05/0_histology\n",
      "\n",
      "Creating folder structure for recording session: BS05_R1\n",
      "Folder structure created successfully for BS05_R1:\n",
      "BS05_R1/\n",
      "├── 0_raw_compressed/\n",
      "├── 1_histology_alignment/\n",
      "├── 2_processed/\n",
      "│   ├── kilosort4/\n",
      "│   ├── metrics/\n",
      "│   └── aligned_outputs/\n",
      "└── 3_datasets/\n",
      "    ├── sync_data/\n",
      "    ├── metadata/\n",
      "    └── plots/\n",
      "\n",
      "You can find the new session folder in: /mnt/fasthd/4_Behavioral_Sensitization/1_Recordings/BS05/BS05_R1\n",
      "--------------------------------\n",
      "\n"
     ]
    }
   ],
   "source": [
    "from tools.set_up_folders import setup_folders_from_dict\n",
    "\n",
    "recording_name = None\n",
    "\n",
    "if recording_name is not None:\n",
    "    print(f'---setting up folders for recording {recording_name}...')\n",
    "else:\n",
    "    print(f'---setting up folders for all recordings in recording_pairs...')\n",
    "setup_folders_from_dict(\n",
    "    recording_pairs,\n",
    "    base_path=project_base_path,\n",
    "    debug=in_debug_mode\n",
    ")\n",
    "\n"
   ]
  },
  {
   "cell_type": "markdown",
   "id": "ac9e437d",
   "metadata": {},
   "source": []
  },
  {
   "cell_type": "markdown",
   "id": "1f2baa4d",
   "metadata": {},
   "source": [
    "[link](#a-heading)"
   ]
  },
  {
   "cell_type": "markdown",
   "id": "b7571b3e",
   "metadata": {},
   "source": []
  },
  {
   "cell_type": "markdown",
   "id": "3b5ec6d5",
   "metadata": {},
   "source": []
  },
  {
   "cell_type": "markdown",
   "id": "14f7e852",
   "metadata": {},
   "source": []
  },
  {
   "cell_type": "markdown",
   "id": "7625e2eb",
   "metadata": {},
   "source": []
  },
  {
   "cell_type": "markdown",
   "id": "b3c0683e",
   "metadata": {},
   "source": [
    "## a heading"
   ]
  }
 ],
 "metadata": {
  "kernelspec": {
   "display_name": "np-ephys",
   "language": "python",
   "name": "python3"
  },
  "language_info": {
   "codemirror_mode": {
    "name": "ipython",
    "version": 3
   },
   "file_extension": ".py",
   "mimetype": "text/x-python",
   "name": "python",
   "nbconvert_exporter": "python",
   "pygments_lexer": "ipython3",
   "version": "3.11.12"
  }
 },
 "nbformat": 4,
 "nbformat_minor": 5
}
